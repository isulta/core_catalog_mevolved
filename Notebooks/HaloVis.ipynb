{
 "cells": [
  {
   "cell_type": "code",
   "execution_count": 1,
   "metadata": {},
   "outputs": [],
   "source": [
    "from itk import h5_read_dict, gio_read_dict, inrange, many_to_one\n",
    "import numpy as np\n",
    "import os"
   ]
  },
  {
   "cell_type": "code",
   "execution_count": 2,
   "metadata": {},
   "outputs": [],
   "source": [
    "from tvtk.api import tvtk, write_data\n",
    "from tvtk.array_handler import get_vtk_array_type\n",
    "from pyevtk.hl import pointsToVTK"
   ]
  },
  {
   "cell_type": "code",
   "execution_count": 3,
   "metadata": {},
   "outputs": [],
   "source": [
    "def Points1d(x, y, z, data, OutFileName):     # make general *args, kwargs type\n",
    "    print(OutFileName+'.vtu')\n",
    "    pointsToVTK(OutFileName, x , y , z , data)"
   ]
  },
  {
   "cell_type": "code",
   "execution_count": 4,
   "metadata": {},
   "outputs": [],
   "source": [
    "cc = h5_read_dict('/home/isultan/projects/halomassloss/core_catalog_mevolved/output_LJDS_localhost_dtfactor_0.5_fitting2/m000p-499.corepropertiesextend.hdf5', 'coredata')"
   ]
  },
  {
   "cell_type": "code",
   "execution_count": 5,
   "metadata": {},
   "outputs": [],
   "source": [
    "sh = gio_read_dict('/home/isultan/data/LJDS/subhalos/m000p-499.subhaloproperties', ['fof_halo_tag', 'subhalo_mass', 'subhalo_tag'])"
   ]
  },
  {
   "cell_type": "code",
   "execution_count": 6,
   "metadata": {},
   "outputs": [],
   "source": [
    "shparts = gio_read_dict('/home/isultan/data/LJDS/subhalos/m000p-499.subhaloparticles', ['x', 'y', 'z', 'fof_halo_tag', 'subhalo_tag'])"
   ]
  },
  {
   "cell_type": "code",
   "execution_count": 7,
   "metadata": {},
   "outputs": [],
   "source": [
    "hparts = gio_read_dict('/home/isultan/data/LJDS/subhalos/m000p-499.haloparticles', ['x', 'y', 'z', 'fof_halo_tag'])"
   ]
  },
  {
   "cell_type": "code",
   "execution_count": 8,
   "metadata": {},
   "outputs": [],
   "source": [
    "centrals_mask = cc['central']==1"
   ]
  },
  {
   "cell_type": "code",
   "execution_count": 9,
   "metadata": {},
   "outputs": [],
   "source": [
    "asrt = np.argsort(cc['infall_fof_halo_mass'][centrals_mask])[::-1]"
   ]
  },
  {
   "cell_type": "code",
   "execution_count": 10,
   "metadata": {},
   "outputs": [],
   "source": [
    "isn =  np.isin( cc['fof_halo_tag'][centrals_mask][asrt], shparts['fof_halo_tag'] )"
   ]
  },
  {
   "cell_type": "code",
   "execution_count": 41,
   "metadata": {},
   "outputs": [],
   "source": [
    "r = (10**12, 10**14.4)"
   ]
  },
  {
   "cell_type": "code",
   "execution_count": 42,
   "metadata": {},
   "outputs": [
    {
     "name": "stdout",
     "output_type": "stream",
     "text": [
      "[597020828 334704022 322464009 314621058 147671729    252479 783965325\n",
      " 490575197 232929180 470474184]\n",
      "[2.4987667e+14 2.4846728e+14 2.4644138e+14 2.4537089e+14 2.4093517e+14\n",
      " 2.4036117e+14 2.3951204e+14 2.3831649e+14 2.3551899e+14 2.3506379e+14]\n"
     ]
    }
   ],
   "source": [
    "idx = isn&inrange(cc['infall_fof_halo_mass'][centrals_mask][asrt], r) \n",
    "\n",
    "print(cc['fof_halo_tag'][centrals_mask][asrt][idx][:10])\n",
    "print(cc['infall_fof_halo_mass'][centrals_mask][asrt][idx][:10])"
   ]
  },
  {
   "cell_type": "code",
   "execution_count": 44,
   "metadata": {},
   "outputs": [],
   "source": [
    "fht_oi = [274555545, 128604449, 628933, 369046792, 157119947, 119418291, 597020828, 334704022, 322464009]\n",
    "fhm_oi = [1.17811892e15, 1.11732682e15, 9.9845868e13, 9.9765832e13, 3.1609126e13, 9.999468e12, 2.4987667e14, 2.4846728e14, 2.4644138e14]"
   ]
  },
  {
   "cell_type": "code",
   "execution_count": 45,
   "metadata": {},
   "outputs": [],
   "source": [
    "def savedata(fht):\n",
    "    savedir = f'/home/isultan/scratch/halovis/fht_{fht}/'\n",
    "    os.mkdir(savedir)\n",
    "\n",
    "    cc_mask = cc['fof_halo_tag']==fht\n",
    "\n",
    "    Points1d(cc['x'][cc_mask], \n",
    "             cc['y'][cc_mask], \n",
    "             cc['z'][cc_mask], \n",
    "             {'m_evolved_1.1_0.1':cc['m_evolved_1.1_0.1'][cc_mask], 'central':cc['central'][cc_mask]},\n",
    "             savedir+'cores')\n",
    "\n",
    "    shparts_mask = shparts['fof_halo_tag']==fht\n",
    "    sh_mask = sh['fof_halo_tag']==fht\n",
    "    shtag, cnt = np.unique(shparts['subhalo_tag'][shparts_mask], return_counts=True)\n",
    "    Points1d(shparts['x'][shparts_mask], \n",
    "             shparts['y'][shparts_mask], \n",
    "             shparts['z'][shparts_mask], \n",
    "             #{'subhalo_mass': sh['subhalo_mass'][sh_mask][many_to_one(shparts['subhalo_tag'][shparts_mask], sh['subhalo_tag'][sh_mask])], 'subhalo_tag': shparts['subhalo_tag'][shparts_mask] },\n",
    "             {'subhalo_count': cnt[many_to_one(shparts['subhalo_tag'][shparts_mask], shtag)], 'subhalo_tag': shparts['subhalo_tag'][shparts_mask] },\n",
    "             savedir+'subhaloparticles')\n",
    "\n",
    "    hparts_mask = hparts['fof_halo_tag']==fht\n",
    "\n",
    "    Points1d(hparts['x'][hparts_mask], \n",
    "             hparts['y'][hparts_mask], \n",
    "             hparts['z'][hparts_mask], \n",
    "             {'data': hparts['x'][hparts_mask]},\n",
    "             savedir+'haloparticles')"
   ]
  },
  {
   "cell_type": "code",
   "execution_count": 46,
   "metadata": {},
   "outputs": [
    {
     "name": "stdout",
     "output_type": "stream",
     "text": [
      "/home/isultan/scratch/halovis/fht_274555545/cores.vtu\n",
      "/home/isultan/scratch/halovis/fht_274555545/subhaloparticles.vtu\n",
      "/home/isultan/scratch/halovis/fht_274555545/haloparticles.vtu\n",
      "/home/isultan/scratch/halovis/fht_128604449/cores.vtu\n",
      "/home/isultan/scratch/halovis/fht_128604449/subhaloparticles.vtu\n",
      "/home/isultan/scratch/halovis/fht_128604449/haloparticles.vtu\n",
      "/home/isultan/scratch/halovis/fht_628933/cores.vtu\n",
      "/home/isultan/scratch/halovis/fht_628933/subhaloparticles.vtu\n",
      "/home/isultan/scratch/halovis/fht_628933/haloparticles.vtu\n",
      "/home/isultan/scratch/halovis/fht_369046792/cores.vtu\n",
      "/home/isultan/scratch/halovis/fht_369046792/subhaloparticles.vtu\n",
      "/home/isultan/scratch/halovis/fht_369046792/haloparticles.vtu\n",
      "/home/isultan/scratch/halovis/fht_157119947/cores.vtu\n",
      "/home/isultan/scratch/halovis/fht_157119947/subhaloparticles.vtu\n",
      "/home/isultan/scratch/halovis/fht_157119947/haloparticles.vtu\n",
      "/home/isultan/scratch/halovis/fht_119418291/cores.vtu\n",
      "/home/isultan/scratch/halovis/fht_119418291/subhaloparticles.vtu\n",
      "/home/isultan/scratch/halovis/fht_119418291/haloparticles.vtu\n",
      "/home/isultan/scratch/halovis/fht_597020828/cores.vtu\n",
      "/home/isultan/scratch/halovis/fht_597020828/subhaloparticles.vtu\n",
      "/home/isultan/scratch/halovis/fht_597020828/haloparticles.vtu\n",
      "/home/isultan/scratch/halovis/fht_334704022/cores.vtu\n",
      "/home/isultan/scratch/halovis/fht_334704022/subhaloparticles.vtu\n",
      "/home/isultan/scratch/halovis/fht_334704022/haloparticles.vtu\n",
      "/home/isultan/scratch/halovis/fht_322464009/cores.vtu\n",
      "/home/isultan/scratch/halovis/fht_322464009/subhaloparticles.vtu\n",
      "/home/isultan/scratch/halovis/fht_322464009/haloparticles.vtu\n"
     ]
    }
   ],
   "source": [
    "for fht in fht_oi:\n",
    "    savedata(fht)"
   ]
  },
  {
   "cell_type": "code",
   "execution_count": null,
   "metadata": {},
   "outputs": [],
   "source": []
  }
 ],
 "metadata": {
  "kernelspec": {
   "display_name": "Python 3",
   "language": "python",
   "name": "python3"
  },
  "language_info": {
   "codemirror_mode": {
    "name": "ipython",
    "version": 3
   },
   "file_extension": ".py",
   "mimetype": "text/x-python",
   "name": "python",
   "nbconvert_exporter": "python",
   "pygments_lexer": "ipython3",
   "version": "3.7.4"
  }
 },
 "nbformat": 4,
 "nbformat_minor": 4
}
